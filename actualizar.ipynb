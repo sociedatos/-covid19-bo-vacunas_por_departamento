{
 "cells": [
  {
   "cell_type": "code",
   "execution_count": 1,
   "id": "06ebef1c-7f2c-4873-bd18-5798cc4d0b14",
   "metadata": {
    "execution": {
     "iopub.execute_input": "2022-07-10T19:53:49.226897Z",
     "iopub.status.busy": "2022-07-10T19:53:49.226388Z",
     "iopub.status.idle": "2022-07-10T19:53:50.025337Z",
     "shell.execute_reply": "2022-07-10T19:53:50.024375Z",
     "shell.execute_reply.started": "2022-07-10T19:53:49.226790Z"
    },
    "tags": []
   },
   "outputs": [],
   "source": [
    "from bs4 import BeautifulSoup\n",
    "import pandas as pd\n",
    "import twitter\n",
    "import internetarchive as ia\n",
    "import requests\n",
    "import json\n",
    "import os\n",
    "import re\n",
    "import datetime as dt\n",
    "from git import Repo\n",
    "import locale\n",
    "locale.setlocale(locale.LC_TIME, 'es_US.UTF8');"
   ]
  },
  {
   "cell_type": "code",
   "execution_count": 2,
   "id": "c451e782-d86f-4f1e-a90c-429c1d76e2c5",
   "metadata": {
    "execution": {
     "iopub.execute_input": "2022-07-10T19:53:53.881890Z",
     "iopub.status.busy": "2022-07-10T19:53:53.881355Z",
     "iopub.status.idle": "2022-07-10T19:53:53.890370Z",
     "shell.execute_reply": "2022-07-10T19:53:53.886584Z",
     "shell.execute_reply.started": "2022-07-10T19:53:53.881837Z"
    },
    "tags": []
   },
   "outputs": [],
   "source": [
    "datos_url = \"https://docs.google.com/spreadsheets/d/e/2PACX-1vRZv851TVHTZd99eke7VVb3tchFjrp1pwmmK0ipQruVoAHovoDe8_VMgQtDZIPckn6_Aiu5Hux_ACzq/pub?gid=0&single=true&output=csv\"\n",
    "metadatos_url = 'https://docs.google.com/spreadsheets/d/e/2PACX-1vRZv851TVHTZd99eke7VVb3tchFjrp1pwmmK0ipQruVoAHovoDe8_VMgQtDZIPckn6_Aiu5Hux_ACzq/pub?gid=1026774595&single=true&output=csv'\n",
    "directory = 'reportes'"
   ]
  },
  {
   "cell_type": "code",
   "execution_count": 3,
   "id": "d62f9e69-208b-444b-a844-999729449035",
   "metadata": {
    "execution": {
     "iopub.execute_input": "2022-07-10T19:53:55.152414Z",
     "iopub.status.busy": "2022-07-10T19:53:55.151918Z",
     "iopub.status.idle": "2022-07-10T19:53:55.253960Z",
     "shell.execute_reply": "2022-07-10T19:53:55.253299Z",
     "shell.execute_reply.started": "2022-07-10T19:53:55.152367Z"
    },
    "tags": []
   },
   "outputs": [],
   "source": [
    "def archivar_reportes():\n",
    "    \n",
    "    def is_twitter(url):\n",
    "        return len(re.findall('twitter.com\\/', url)) > 0\n",
    "\n",
    "    def is_unidoscontraelcovid(url):\n",
    "        return len(re.findall('unidoscontraelcovid.gob.bo\\/', url)) > 0\n",
    "\n",
    "    def read_metadata():\n",
    "        meta = pd.read_csv(metadatos_url, parse_dates=['fecha'])\n",
    "        meta = meta[meta.fuente.notna()]\n",
    "        return meta\n",
    "\n",
    "    def filter_new_metadata(meta):\n",
    "        archived = [dt.datetime.strptime(filename.split('.')[0].split('_')[1], '%Y%m%d') for filename in os.listdir(directory)]\n",
    "        return meta[~meta.fecha.isin(archived)]\n",
    "\n",
    "    def archive(ia_id, description, fuente, creator, fecha, filename, image_url):\n",
    "        with open(filename, 'wb') as f:\n",
    "            f.write(requests.get(image_url).content)\n",
    "\n",
    "        ia_meta = {'title': 'Reporte de Vacunación de Covid-19 en Bolivia para el {}'.format(fecha.strftime('%-d de %B, %Y')),\n",
    "                   'description': description,\n",
    "                   'source': fuente,\n",
    "                   'creator': creator,\n",
    "                   'mediatype': 'image',\n",
    "                   'collection': 'vacunacion-covid19-bolivia',\n",
    "                   'date': fecha.strftime('%Y-%m-%d')}\n",
    "\n",
    "        ia.upload(ia_id,\n",
    "                  filename,\n",
    "                  metadata=ia_meta,\n",
    "                  access_key = credenciales[\"ia\"][\"access\"],\n",
    "                  secret_key = credenciales[\"ia\"][\"secret\"],\n",
    "                  retries=4\n",
    "                 )\n",
    "\n",
    "    def load_credenciales():\n",
    "            with open('credenciales.json', 'r') as f:\n",
    "                return json.load(f)\n",
    "\n",
    "    def auth_twitter():\n",
    "            \"Autenticar en Twitter para realizar consultas al API\"\n",
    "\n",
    "            return twitter.Api(consumer_key = credenciales['twitter']['consumer_key'],\n",
    "                               consumer_secret = credenciales['twitter']['consumer_secret'],\n",
    "                               access_token_key = credenciales['twitter']['access_token_key'],\n",
    "                               access_token_secret = credenciales['twitter']['access_token_secret'],\n",
    "                               tweet_mode='extended')\n",
    "\n",
    "    def make_ia_id(fecha):\n",
    "        return 'vacunacioncovid19bolivia_{}'.format(fecha.strftime('%Y%m%d'))\n",
    "\n",
    "    def make_filename(ia_id, image_url):\n",
    "        return '{}/{}.{}'.format(directory, ia_id, image_url.split('.')[-1])\n",
    "\n",
    "    def download_image(filename, image_url):\n",
    "        with open(filename, 'wb') as f:\n",
    "            f.write(requests.get(image_url).content)\n",
    "\n",
    "    def get_twitter(url):\n",
    "        status_id = int(url.split('/')[-1])\n",
    "        status = tw.GetStatus(status_id)\n",
    "        description = status.full_text\n",
    "        fuente = url\n",
    "        creator = status.user.name\n",
    "        image_url = status._json['entities']['media'][0]['media_url_https']\n",
    "        return description, fuente, creator, image_url\n",
    "\n",
    "    def get_unidoscontraelcovid(url, fecha):\n",
    "        html = BeautifulSoup(requests.get(url).text, 'html.parser')\n",
    "        description = 'Reporte de Vacunación de Covid-19 en Bolivia para el {}'.format(fecha.strftime('%-d de %B, %Y')),\n",
    "        fuente = url\n",
    "        creator = 'Unidos Contra el Covid'\n",
    "        image_url = html.select('.post img')[0]['src']\n",
    "        return description, fuente, creator, image_url\n",
    "    \n",
    "    credenciales = load_credenciales()\n",
    "    tw = auth_twitter()\n",
    "\n",
    "    meta = filter_new_metadata(read_metadata())\n",
    "    print('{} reportes que archivar'.format(len(meta)))\n",
    "\n",
    "    for i, row in meta.iterrows():\n",
    "        \n",
    "        fuente = row['fuente']\n",
    "        fecha = row['fecha']\n",
    "        print('{} - {}'.format(fecha.strftime('%Y-%m-%d'), fuente))\n",
    "        \n",
    "        if is_twitter(row['fuente']):\n",
    "            description, fuente, creator, image_url = get_twitter(fuente)\n",
    "        \n",
    "        elif is_unidoscontraelcovid(row['fuente']):\n",
    "            description, fuente, creator, image_url = get_unidoscontraelcovid(fuente, fecha)\n",
    "        \n",
    "        ia_id = make_ia_id(fecha)\n",
    "        filename = make_filename(ia_id, image_url)\n",
    "        download_image(filename, image_url)\n",
    "        \n",
    "        archive(ia_id, description, fuente, creator, fecha, filename, image_url)\n",
    "\n",
    "def consolidar():\n",
    "    \"\"\"\n",
    "    Sincroniza sheets\n",
    "    \"\"\"\n",
    "    \n",
    "    def download_sheet(url, filename):\n",
    "        datos = requests.get(url).text\n",
    "        datos = datos.replace('\\r','')\n",
    "        with open(filename, 'w+') as f:\n",
    "            f.write(datos)\n",
    "            \n",
    "    for url, filename in zip([metadatos_url, datos_url], ['metadata.csv', 'vaccinations.csv']):\n",
    "        download_sheet(url, filename)\n",
    "        \n",
    "def update():\n",
    "    \"\"\"\n",
    "    Actualiza el repositorio\n",
    "    \"\"\"\n",
    "    \n",
    "    last_update = pd.read_csv('metadata.csv', parse_dates=['fecha']).fecha.max()\n",
    "    repository = Repo('.')\n",
    "    repository.git.add(all=True)\n",
    "    repository.index.commit(last_update.strftime('%Y-%m-%d'))\n",
    "    repository.remotes.origin.push()"
   ]
  },
  {
   "cell_type": "code",
   "execution_count": null,
   "id": "32500dd6-411c-4bad-977f-eefb7fb8499f",
   "metadata": {
    "execution": {
     "iopub.execute_input": "2022-07-10T19:53:56.658934Z",
     "iopub.status.busy": "2022-07-10T19:53:56.658019Z"
    },
    "tags": []
   },
   "outputs": [
    {
     "name": "stdout",
     "output_type": "stream",
     "text": [
      "16 reportes que archivar\n",
      "2022-06-23 - https://twitter.com/notiAsolysombra/status/1540162867072212995\n",
      "2022-06-24 - https://twitter.com/notiAsolysombra/status/1540537491215761408\n",
      "2022-06-25 - https://twitter.com/notiAsolysombra/status/1540907293729902592\n",
      "2022-06-26 - https://twitter.com/notiAsolysombra/status/1541252705259327490\n",
      "2022-06-27 - https://twitter.com/notiAsolysombra/status/1541616569641574402\n",
      "2022-06-28 - https://twitter.com/notiAsolysombra/status/1541984509863907329\n",
      "2022-06-29 - https://twitter.com/notiAsolysombra/status/1542348092162424832\n",
      "2022-06-30 - https://www.boliviatv.bo/principal/nota.php?noticia=12ea44692783b6694f613c1639e29c2e\n",
      "2022-07-02 - https://twitter.com/jornada7bolivia/status/1543455917475352582\n",
      "2022-07-03 - https://twitter.com/ahora_elpueblo/status/1543770378165800960\n",
      "2022-07-04 - https://twitter.com/notiAsolysombra/status/1544149001217400836\n",
      "2022-07-05 - https://twitter.com/notiAsolysombra/status/1544519825858387968\n",
      "2022-07-06 - https://twitter.com/notiAsolysombra/status/1544882775618117632\n",
      "2022-07-07 - https://twitter.com/notiAsolysombra/status/1545227097798594560\n",
      "2022-07-08 - https://twitter.com/notiAsolysombra/status/1545612120536088578\n"
     ]
    }
   ],
   "source": [
    "archivar_reportes()\n",
    "consolidar()\n",
    "update()"
   ]
  }
 ],
 "metadata": {
  "citation-manager": {
   "items": {}
  },
  "kernelspec": {
   "display_name": "Python 3 (ipykernel)",
   "language": "python",
   "name": "python3"
  },
  "language_info": {
   "codemirror_mode": {
    "name": "ipython",
    "version": 3
   },
   "file_extension": ".py",
   "mimetype": "text/x-python",
   "name": "python",
   "nbconvert_exporter": "python",
   "pygments_lexer": "ipython3",
   "version": "3.9.13"
  },
  "widgets": {
   "application/vnd.jupyter.widget-state+json": {
    "state": {},
    "version_major": 2,
    "version_minor": 0
   }
  }
 },
 "nbformat": 4,
 "nbformat_minor": 5
}
