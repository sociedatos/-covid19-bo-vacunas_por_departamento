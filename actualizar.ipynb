{
 "cells": [
  {
   "cell_type": "code",
   "execution_count": 3,
   "id": "fee9746a-ab8a-4548-8815-724e21e6e333",
   "metadata": {},
   "outputs": [],
   "source": [
    "import pandas as pd\n",
    "import twitter\n",
    "import internetarchive as ia\n",
    "import requests\n",
    "import json\n",
    "import os\n",
    "import datetime as dt\n",
    "from git import Repo\n",
    "import locale\n",
    "locale.setlocale(locale.LC_TIME, 'es_US.UTF8');"
   ]
  },
  {
   "cell_type": "code",
   "execution_count": 4,
   "id": "c451e782-d86f-4f1e-a90c-429c1d76e2c5",
   "metadata": {},
   "outputs": [],
   "source": [
    "datos_url = \"https://docs.google.com/spreadsheets/d/e/2PACX-1vRZv851TVHTZd99eke7VVb3tchFjrp1pwmmK0ipQruVoAHovoDe8_VMgQtDZIPckn6_Aiu5Hux_ACzq/pub?gid=0&single=true&output=csv\"\n",
    "metadatos_url = 'https://docs.google.com/spreadsheets/d/e/2PACX-1vRZv851TVHTZd99eke7VVb3tchFjrp1pwmmK0ipQruVoAHovoDe8_VMgQtDZIPckn6_Aiu5Hux_ACzq/pub?gid=1026774595&single=true&output=csv'\n",
    "directory = 'reportes'"
   ]
  },
  {
   "cell_type": "code",
   "execution_count": 19,
   "id": "5f11ad5b-91da-4975-be55-28ff1d9233fb",
   "metadata": {},
   "outputs": [],
   "source": [
    "def archivar_reportes(actualizar=True):\n",
    "    \"Sube al internetarchive las imágenes de reportes citadas en la tabla de metadatos. Si actualizar es `True`, sólo sube aquellas que no hayan sido subidas previamente.\"\n",
    "    \n",
    "    def load_credenciales():\n",
    "        with open('credenciales.json', 'r') as f:\n",
    "            return json.load(f)\n",
    "    \n",
    "    def auth_twitter():\n",
    "        \"Autenticar en Twitter para realizar consultas al API\"\n",
    "\n",
    "        return twitter.Api(consumer_key = credenciales['twitter']['consumer_key'],\n",
    "                           consumer_secret = credenciales['twitter']['consumer_secret'],\n",
    "                           access_token_key = credenciales['twitter']['access_token_key'],\n",
    "                           access_token_secret = credenciales['twitter']['access_token_secret'],\n",
    "                           tweet_mode='extended')\n",
    "\n",
    "    def split_list(iterable, n=1):\n",
    "        \"Convierte un iterable en una lista de listas con n valores.\"\n",
    "\n",
    "        len_iterable = len(iterable)\n",
    "        for ndx in range(0, len_iterable, n):\n",
    "            yield iterable[ndx:min(ndx + n, len_iterable)]\n",
    "\n",
    "    def read_metadata():\n",
    "        \"Descarga los metadatos de google sheets, filtra sólo aquellos con una fuente y crea una columna de status_id\"\n",
    "\n",
    "        meta = pd.read_csv(metadatos_url, parse_dates=['fecha'])\n",
    "        meta = meta[meta.fuente.notna()]\n",
    "        meta['status_id'] = meta['fuente'].apply(lambda x: x.split('/')[-1]).astype(int)\n",
    "        return meta\n",
    "\n",
    "    def get_statuses(fuentes):\n",
    "        \"Devuelve un diccionario de status de twitter donde la llave es el status_id\"\n",
    "\n",
    "        tw = auth_twitter()\n",
    "        statuses = []\n",
    "        for fuentes_seccion in split_list(fuentes, 50):\n",
    "            statuses.extend(tw.GetStatuses(fuentes_seccion))\n",
    "        return {status._json['id']:status._json for status in statuses}\n",
    "\n",
    "    def archivar(meta, statuses):\n",
    "        \"Descarga la imagen de cada status de twitter, extrae los metadatos más significativos y sube todo al internet archive\"\n",
    "\n",
    "        for reporte in meta.to_dict(orient='records'):\n",
    "\n",
    "            ia_identifier = 'vacunacioncovid19bolivia_{}'.format(reporte['fecha'].strftime('%Y%m%d'))\n",
    "            print('https://archive.org/details/{} : {}'.format(ia_identifier, reporte['status_id']))\n",
    "            \n",
    "            status = statuses[reporte['status_id']]\n",
    "            image_url = status['entities']['media'][0]['media_url']\n",
    "            filename = '{}/{}.{}'.format(directory, ia_identifier, image_url.split('.')[-1])\n",
    "\n",
    "            with open(filename, 'wb') as f:\n",
    "                f.write(requests.get(image_url).content)\n",
    "\n",
    "            ia_meta = {'title': 'Reporte de Vacunación de Covid-19 en Bolivia para el {}'.format(reporte['fecha'].strftime('%-d de %B, %Y')),\n",
    "                       'description': status['full_text'],\n",
    "                       'source': reporte['fuente'],\n",
    "                       'creator': status['user']['name'],\n",
    "                       'mediatype': 'image',\n",
    "                       'collection': 'vacunacion-covid19-bolivia',\n",
    "                       'date': reporte['fecha'].strftime('%Y-%m-%d')}\n",
    "\n",
    "            ia.upload(ia_identifier,\n",
    "                      filename,\n",
    "                      metadata=ia_meta,\n",
    "                      access_key = credenciales[\"ia\"][\"access\"],\n",
    "                      secret_key = credenciales[\"ia\"][\"secret\"],\n",
    "                      retries=4\n",
    "                     )\n",
    "    \n",
    "    def filtrar_nuevos(meta):\n",
    "        \"Devuelve sólo las entradas que no hayan sido descargadas previamente.\"\n",
    "        \n",
    "        viejos = [dt.datetime.strptime(filename.split('.')[0].split('_')[1], '%Y%m%d') for filename in os.listdir(directory)]\n",
    "        return meta[~meta.fecha.isin(viejos)]\n",
    "    \n",
    "    credenciales = load_credenciales()\n",
    "    \n",
    "    meta = read_metadata()\n",
    "    if actualizar == True:\n",
    "        meta = filtrar_nuevos(meta)\n",
    "    if len(meta) > 0:\n",
    "        statuses = get_statuses(meta['status_id'].tolist())\n",
    "        archivar(meta, statuses)\n",
    "\n",
    "def consolidar():\n",
    "    \"\"\"\n",
    "    Sincroniza sheets\n",
    "    \"\"\"\n",
    "    \n",
    "    def download_sheet(url, filename):\n",
    "        datos = requests.get(url).text\n",
    "        datos = datos.replace('\\r','')\n",
    "        with open(filename, 'w+') as f:\n",
    "            f.write(datos)\n",
    "            \n",
    "    for url, filename in zip([metadatos_url, datos_url], ['metadata.csv', 'vaccinations.csv']):\n",
    "        download_sheet(url, filename)\n",
    "        \n",
    "def update():\n",
    "    \"\"\"\n",
    "    Actualiza el repositorio\n",
    "    \"\"\"\n",
    "    \n",
    "    last_update = pd.read_csv('metadata.csv', parse_dates=['fecha']).fecha.max()\n",
    "    repository = Repo('.')\n",
    "    repository.git.add(all=True)\n",
    "    repository.index.commit(last_update.strftime('%Y-%m-%d'))\n",
    "    repository.remotes.origin.push()"
   ]
  },
  {
   "cell_type": "code",
   "execution_count": 23,
   "id": "32500dd6-411c-4bad-977f-eefb7fb8499f",
   "metadata": {},
   "outputs": [
    {
     "name": "stdout",
     "output_type": "stream",
     "text": [
      "https://archive.org/details/vacunacioncovid19bolivia_20220205 : 1490154158774702081\n",
      "https://archive.org/details/vacunacioncovid19bolivia_20220206 : 1490527509317783552\n"
     ]
    }
   ],
   "source": [
    "archivar_reportes()\n",
    "consolidar()"
   ]
  },
  {
   "cell_type": "code",
   "execution_count": 22,
   "id": "fcd8e188-4f6e-4646-acf0-650ab94a23e9",
   "metadata": {},
   "outputs": [],
   "source": [
    "update()"
   ]
  }
 ],
 "metadata": {
  "citation-manager": {
   "items": {}
  },
  "kernelspec": {
   "display_name": "Python 3 (ipykernel)",
   "language": "python",
   "name": "python3"
  },
  "language_info": {
   "codemirror_mode": {
    "name": "ipython",
    "version": 3
   },
   "file_extension": ".py",
   "mimetype": "text/x-python",
   "name": "python",
   "nbconvert_exporter": "python",
   "pygments_lexer": "ipython3",
   "version": "3.9.10"
  },
  "widgets": {
   "application/vnd.jupyter.widget-state+json": {
    "state": {},
    "version_major": 2,
    "version_minor": 0
   }
  }
 },
 "nbformat": 4,
 "nbformat_minor": 5
}
